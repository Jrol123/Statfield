{
 "cells": [
  {
   "cell_type": "code",
   "id": "initial_id",
   "metadata": {
    "collapsed": true,
    "ExecuteTime": {
     "end_time": "2024-07-30T09:47:33.225089Z",
     "start_time": "2024-07-30T09:47:33.206094Z"
    }
   },
   "source": [
    "import numpy as np\n",
    "from scipy.stats import norm\n",
    "import seaborn as sns\n",
    "from matplotlib.pyplot import vlines, show"
   ],
   "outputs": [],
   "execution_count": 22
  },
  {
   "metadata": {},
   "cell_type": "markdown",
   "source": [
    "# Метод моментов (MM)\n",
    "\n",
    "Заключается в приравнивании теоретического ($a_i = E_\\theta[X^i] = \\int \\limits_{-\\infty}^{+\\infty} x^i f(x; \\theta)dx$) и выборочного ($\\hat a_i = \\dfrac 1 n \\sum\\limits _{j=1}^{n}X_j^i$) моментов"
   ],
   "id": "f93f31efb48d26b7"
  },
  {
   "metadata": {
    "ExecuteTime": {
     "end_time": "2024-07-30T09:47:33.241088Z",
     "start_time": "2024-07-30T09:47:33.226090Z"
    }
   },
   "cell_type": "code",
   "source": "np.random.seed(42)",
   "id": "ec84acbe69d6884c",
   "outputs": [],
   "execution_count": 23
  },
  {
   "metadata": {
    "ExecuteTime": {
     "end_time": "2024-07-30T09:47:33.257101Z",
     "start_time": "2024-07-30T09:47:33.242090Z"
    }
   },
   "cell_type": "code",
   "source": "norm_rv = norm(0, 1)",
   "id": "9b9c6efe89e1ca85",
   "outputs": [],
   "execution_count": 24
  },
  {
   "metadata": {
    "ExecuteTime": {
     "end_time": "2024-07-30T09:47:33.273089Z",
     "start_time": "2024-07-30T09:47:33.259089Z"
    }
   },
   "cell_type": "code",
   "source": [
    "n = 1000\n",
    "\n",
    "norm_rvs = norm_rv.rvs(n)"
   ],
   "id": "542d47b4b1c8c9b2",
   "outputs": [],
   "execution_count": 25
  },
  {
   "metadata": {},
   "cell_type": "markdown",
   "source": [
    "## Составление моментов\n",
    "\n",
    "Теоретические моменты выводятся на уровне формул.\n",
    "\n",
    "Составим оценку дисперсии\n",
    "\n",
    "$\\hat \\mu = \\frac{1}{n}\\sum\\limits_{i = 1}^n x_i, \\operatorname{Var}(X) = E[X^2] - (E[X])^2 \\implies \\hat \\sigma^2 + \\hat \\mu^2 = \\frac{1}{n} \\sum\\limits_{i=1}^n x_i^2$\n",
    "----\n",
    "\n",
    "$\\hat\\sigma^2 = \\frac{1}{n} \\sum\\limits_{i=1}^n (x_i - \\hat \\mu)^2 = \\frac{1}{n} \\sum\\limits_{i=1}^n x_i^2 - \\left( \\frac{1}{n} \\sum\\limits_{i=1}^n x_i \\right)^2$"
   ],
   "id": "e56da87f1c2ec7bb"
  },
  {
   "metadata": {
    "ExecuteTime": {
     "end_time": "2024-07-30T09:47:33.288095Z",
     "start_time": "2024-07-30T09:47:33.274089Z"
    }
   },
   "cell_type": "code",
   "source": [
    "norm_m_mu = norm_rv.mean()\n",
    "norm_m_var = norm_rv.var()\n",
    "\n",
    "1 / n * sum(x ** 2 for x in norm_rvs) - norm_rvs.mean() ** 2"
   ],
   "id": "f45763dc3cb37814",
   "outputs": [
    {
     "data": {
      "text/plain": [
       "0.9579049897315178"
      ]
     },
     "execution_count": 26,
     "metadata": {},
     "output_type": "execute_result"
    }
   ],
   "execution_count": 26
  },
  {
   "metadata": {
    "ExecuteTime": {
     "end_time": "2024-07-30T09:54:59.427704Z",
     "start_time": "2024-07-30T09:54:59.408709Z"
    }
   },
   "cell_type": "code",
   "source": "norm.fit(norm_rvs, method=\"MLE\"), norm.fit(norm_rvs, method=\"MM\")",
   "id": "769f49e5a20f5fb",
   "outputs": [
    {
     "data": {
      "text/plain": [
       "((0.01933205582232549, 0.9787262077473543),\n",
       " (0.01933205582232549, 0.9787262077473543))"
      ]
     },
     "execution_count": 34,
     "metadata": {},
     "output_type": "execute_result"
    }
   ],
   "execution_count": 34
  }
 ],
 "metadata": {
  "kernelspec": {
   "display_name": "Python 3",
   "language": "python",
   "name": "python3"
  },
  "language_info": {
   "codemirror_mode": {
    "name": "ipython",
    "version": 2
   },
   "file_extension": ".py",
   "mimetype": "text/x-python",
   "name": "python",
   "nbconvert_exporter": "python",
   "pygments_lexer": "ipython2",
   "version": "2.7.6"
  }
 },
 "nbformat": 4,
 "nbformat_minor": 5
}
