{
 "cells": [
  {
   "cell_type": "code",
   "id": "initial_id",
   "metadata": {
    "collapsed": true,
    "ExecuteTime": {
     "end_time": "2024-07-29T01:00:27.058513Z",
     "start_time": "2024-07-29T01:00:27.044508Z"
    }
   },
   "source": [
    "from scipy.stats import norm, bootstrap\n",
    "import numpy as np\n",
    "from matplotlib.pyplot import vlines, show, legend\n",
    "import seaborn as sns"
   ],
   "outputs": [],
   "execution_count": 11
  },
  {
   "metadata": {
    "ExecuteTime": {
     "end_time": "2024-07-29T01:00:27.106021Z",
     "start_time": "2024-07-29T01:00:27.096024Z"
    }
   },
   "cell_type": "code",
   "source": [
    "seed = 42\n",
    "np.random.seed(seed)"
   ],
   "id": "8ac08a41658d2c32",
   "outputs": [],
   "execution_count": 12
  },
  {
   "metadata": {
    "ExecuteTime": {
     "end_time": "2024-07-29T01:00:27.122026Z",
     "start_time": "2024-07-29T01:00:27.107023Z"
    }
   },
   "cell_type": "code",
   "source": [
    "mu = 0\n",
    "std = 1\n",
    "\n",
    "alpha = 0.05\n",
    "N = 1000\n",
    "\n",
    "norm_rv = norm(mu, std)\n",
    "norm_rvs = norm_rv.rvs(size=N)\n",
    "# norm_rvs"
   ],
   "id": "8c2523d27c779d69",
   "outputs": [],
   "execution_count": 13
  },
  {
   "metadata": {},
   "cell_type": "markdown",
   "source": "# Ручное исследование методом bootstrap",
   "id": "7f5c739a94f365b1"
  },
  {
   "metadata": {
    "ExecuteTime": {
     "end_time": "2024-07-29T01:00:30.023047Z",
     "start_time": "2024-07-29T01:00:27.124027Z"
    }
   },
   "cell_type": "code",
   "source": [
    "B = 100000\n",
    "\n",
    "mass_test = [norm_rvs[np.random.choice(len(norm_rvs), size=N)] for _ in range(B)]\n",
    "# mass_test"
   ],
   "id": "3cab44097045fdf9",
   "outputs": [],
   "execution_count": 14
  },
  {
   "metadata": {
    "ExecuteTime": {
     "end_time": "2024-07-29T01:00:30.595159Z",
     "start_time": "2024-07-29T01:00:30.024049Z"
    }
   },
   "cell_type": "code",
   "source": [
    "mass_params = [sample.mean() for sample in mass_test]\n",
    "# mass_params"
   ],
   "id": "1a83ede04a00af4c",
   "outputs": [],
   "execution_count": 15
  },
  {
   "metadata": {
    "ExecuteTime": {
     "end_time": "2024-07-29T01:00:30.611157Z",
     "start_time": "2024-07-29T01:00:30.597160Z"
    }
   },
   "cell_type": "code",
   "source": [
    "total_sample_param = sum(mass_params) / B\n",
    "total_sample_param"
   ],
   "id": "e9bcd9d8e7086d99",
   "outputs": [
    {
     "data": {
      "text/plain": [
       "0.019400540160673076"
      ]
     },
     "execution_count": 16,
     "metadata": {},
     "output_type": "execute_result"
    }
   ],
   "execution_count": 16
  },
  {
   "metadata": {},
   "cell_type": "markdown",
   "source": "## Доверительный интервал методом перцентилей",
   "id": "fb94df0d138e9d73"
  },
  {
   "metadata": {
    "ExecuteTime": {
     "end_time": "2024-07-29T01:00:30.627156Z",
     "start_time": "2024-07-29T01:00:30.612157Z"
    }
   },
   "cell_type": "code",
   "source": [
    "index_l = int(B * alpha / 2)\n",
    "index_r = int(B * (1 - alpha / 2))\n",
    "print(index_l, index_r)\n",
    "\n",
    "ci_p = [mass_params[index_l], mass_params[index_r]]\n",
    "ci_p"
   ],
   "id": "1cb98343bab3ca3b",
   "outputs": [
    {
     "name": "stdout",
     "output_type": "stream",
     "text": [
      "2500 97500\n"
     ]
    },
    {
     "data": {
      "text/plain": [
       "[-0.023876987716435837, 0.017888269846760677]"
      ]
     },
     "execution_count": 17,
     "metadata": {},
     "output_type": "execute_result"
    }
   ],
   "execution_count": 17
  },
  {
   "metadata": {},
   "cell_type": "markdown",
   "source": "## Доверительный интервал методом квантилей",
   "id": "a6deb8c681f1eb5f"
  },
  {
   "metadata": {
    "ExecuteTime": {
     "end_time": "2024-07-29T01:00:30.674676Z",
     "start_time": "2024-07-29T01:00:30.628159Z"
    }
   },
   "cell_type": "code",
   "source": [
    "std_var = sum((param_i - total_sample_param) ** 2 for param_i in mass_params) / B\n",
    "\n",
    "ci_q = [total_sample_param - norm.ppf(1 - alpha / 2) * (std_var / np.sqrt(N)),\n",
    "        total_sample_param + norm.ppf(1 - alpha / 2) * (std_var / np.sqrt(N))]\n",
    "ci_q"
   ],
   "id": "c93067a471437d52",
   "outputs": [
    {
     "data": {
      "text/plain": [
       "[0.019341051623289703, 0.01946002869805645]"
      ]
     },
     "execution_count": 18,
     "metadata": {},
     "output_type": "execute_result"
    }
   ],
   "execution_count": 18
  },
  {
   "metadata": {},
   "cell_type": "markdown",
   "source": "# Исследование через scipy",
   "id": "59d9cdab5bd989f8"
  },
  {
   "metadata": {
    "ExecuteTime": {
     "end_time": "2024-07-29T01:00:31.892890Z",
     "start_time": "2024-07-29T01:00:30.676677Z"
    }
   },
   "cell_type": "code",
   "source": [
    "bootstr = bootstrap((norm_rvs,), np.mean, n_resamples=B, confidence_level=1 - alpha)\n",
    "ci_b = bootstr.confidence_interval\n",
    "ci_b"
   ],
   "id": "3c0b40052660c6eb",
   "outputs": [
    {
     "data": {
      "text/plain": [
       "ConfidenceInterval(low=-0.04077283776721286, high=0.08049040385912627)"
      ]
     },
     "execution_count": 19,
     "metadata": {},
     "output_type": "execute_result"
    }
   ],
   "execution_count": 19
  },
  {
   "metadata": {},
   "cell_type": "markdown",
   "source": "# Графическое отображение",
   "id": "56bf40977add00b8"
  },
  {
   "metadata": {
    "ExecuteTime": {
     "end_time": "2024-07-29T01:04:59.070215Z",
     "start_time": "2024-07-29T01:04:58.877170Z"
    }
   },
   "cell_type": "code",
   "source": [
    "x = np.linspace(norm_rv.mean() - 0.2 * norm_rv.std(), norm_rv.mean() + 0.2 * norm_rv.std(), 1000)\n",
    "\n",
    "sns.lineplot(x=x, y=norm_rv.pdf(x))\n",
    "vlines(x=norm_rv.mean(), ymin=0, ymax=norm_rv.pdf(norm_rv.mean()))\n",
    "\n",
    "vlines(x=total_sample_param, ymin=0, ymax=norm.pdf(total_sample_param), color='y', label='Expectancy Bootstrap')\n",
    "\n",
    "vlines(x=ci_p, ymin=0, ymax=norm.pdf(ci_p), color='g', linestyles=\"--\", label=\"CI percentiles\")\n",
    "vlines(x=ci_q, ymin=0, ymax=norm.pdf(ci_q), color='r', linestyles=\"--\", label=\"CI quantiles\")  # Очень маленькое расстояние между ними\n",
    "\n",
    "vlines(x=ci_b, ymin=0, ymax=norm.pdf(ci_b), color='black', label=\"Bootstrap confidence interval\")\n",
    "\n",
    "legend()\n",
    "show()"
   ],
   "id": "b5856cdcb13277e0",
   "outputs": [
    {
     "data": {
      "text/plain": [
       "<Figure size 640x480 with 1 Axes>"
      ],
      "image/png": "[encoded data removed]"
     },
     "metadata": {},
     "output_type": "display_data"
    }
   ],
   "execution_count": 28
  },
  {
   "metadata": {
    "ExecuteTime": {
     "end_time": "2024-07-29T01:05:14.338199Z",
     "start_time": "2024-07-29T01:05:14.329201Z"
    }
   },
   "cell_type": "code",
   "source": "norm.pdf(total_sample_param)",
   "id": "49aab648764e3b23",
   "outputs": [
    {
     "data": {
      "text/plain": [
       "0.39886721032644396"
      ]
     },
     "execution_count": 29,
     "metadata": {},
     "output_type": "execute_result"
    }
   ],
   "execution_count": 29
  },
  {
   "metadata": {},
   "cell_type": "code",
   "outputs": [],
   "execution_count": null,
   "source": "",
   "id": "d8380bf38943db3f"
  }
 ],
 "metadata": {
  "kernelspec": {
   "display_name": "Python 3",
   "language": "python",
   "name": "python3"
  },
  "language_info": {
   "codemirror_mode": {
    "name": "ipython",
    "version": 2
   },
   "file_extension": ".py",
   "mimetype": "text/x-python",
   "name": "python",
   "nbconvert_exporter": "python",
   "pygments_lexer": "ipython2",
   "version": "2.7.6"
  }
 },
 "nbformat": 4,
 "nbformat_minor": 5
}
