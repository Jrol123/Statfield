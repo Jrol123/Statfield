{
 "cells": [
  {
   "cell_type": "code",
   "id": "initial_id",
   "metadata": {
    "collapsed": true,
    "ExecuteTime": {
     "end_time": "2024-07-27T12:18:11.473186Z",
     "start_time": "2024-07-27T12:18:11.458659Z"
    }
   },
   "source": [
    "from scipy.stats import norm, bootstrap\n",
    "import numpy as np\n",
    "from matplotlib.pyplot import vlines, show, legend\n",
    "import seaborn as sns"
   ],
   "outputs": [],
   "execution_count": 328
  },
  {
   "metadata": {
    "ExecuteTime": {
     "end_time": "2024-07-27T12:18:11.535840Z",
     "start_time": "2024-07-27T12:18:11.523298Z"
    }
   },
   "cell_type": "code",
   "source": [
    "seed = 42\n",
    "np.random.seed(seed)"
   ],
   "id": "8ac08a41658d2c32",
   "outputs": [],
   "execution_count": 329
  },
  {
   "metadata": {
    "ExecuteTime": {
     "end_time": "2024-07-27T12:18:11.551863Z",
     "start_time": "2024-07-27T12:18:11.537840Z"
    }
   },
   "cell_type": "code",
   "source": [
    "mu = 0\n",
    "std = 1\n",
    "\n",
    "alpha = 0.05\n",
    "N = 100\n",
    "\n",
    "norm_rv = norm(mu, std)\n",
    "norm_rvs = norm_rv.rvs(size=N)\n",
    "# norm_rvs"
   ],
   "id": "8c2523d27c779d69",
   "outputs": [],
   "execution_count": 330
  },
  {
   "metadata": {},
   "cell_type": "markdown",
   "source": "# Ручное исследование методом bootstrap",
   "id": "7f5c739a94f365b1"
  },
  {
   "metadata": {
    "ExecuteTime": {
     "end_time": "2024-07-27T12:18:11.740823Z",
     "start_time": "2024-07-27T12:18:11.553369Z"
    }
   },
   "cell_type": "code",
   "source": [
    "B = 10000\n",
    "\n",
    "mass_test = [norm_rvs[np.random.choice(len(norm_rvs), size=N)] for _ in range(B)]\n",
    "# mass_test"
   ],
   "id": "3cab44097045fdf9",
   "outputs": [],
   "execution_count": 331
  },
  {
   "metadata": {
    "ExecuteTime": {
     "end_time": "2024-07-27T12:18:11.803020Z",
     "start_time": "2024-07-27T12:18:11.741823Z"
    }
   },
   "cell_type": "code",
   "source": [
    "mass_params = [sample.mean() for sample in mass_test]\n",
    "# mass_params"
   ],
   "id": "1a83ede04a00af4c",
   "outputs": [],
   "execution_count": 332
  },
  {
   "metadata": {
    "ExecuteTime": {
     "end_time": "2024-07-27T12:18:11.818065Z",
     "start_time": "2024-07-27T12:18:11.804030Z"
    }
   },
   "cell_type": "code",
   "source": [
    "total_sample_param = sum(mass_params) / B\n",
    "total_sample_param"
   ],
   "id": "e9bcd9d8e7086d99",
   "outputs": [
    {
     "data": {
      "text/plain": [
       "-0.10487297363269858"
      ]
     },
     "execution_count": 333,
     "metadata": {},
     "output_type": "execute_result"
    }
   ],
   "execution_count": 333
  },
  {
   "metadata": {},
   "cell_type": "markdown",
   "source": "## Доверительный интервал методом перцентилей",
   "id": "fb94df0d138e9d73"
  },
  {
   "metadata": {
    "ExecuteTime": {
     "end_time": "2024-07-27T12:18:11.833594Z",
     "start_time": "2024-07-27T12:18:11.820064Z"
    }
   },
   "cell_type": "code",
   "source": [
    "index_l = int(B * alpha / 2)\n",
    "index_r = int(B * (1 - alpha / 2))\n",
    "print(index_l, index_r)\n",
    "\n",
    "ci_p = [mass_params[index_l], mass_params[index_r]]\n",
    "ci_p"
   ],
   "id": "1cb98343bab3ca3b",
   "outputs": [
    {
     "name": "stdout",
     "output_type": "stream",
     "text": [
      "250 9750\n"
     ]
    },
    {
     "data": {
      "text/plain": [
       "[-0.08886582049747266, -0.13964852766532057]"
      ]
     },
     "execution_count": 334,
     "metadata": {},
     "output_type": "execute_result"
    }
   ],
   "execution_count": 334
  },
  {
   "metadata": {},
   "cell_type": "markdown",
   "source": "## Доверительный интервал методом квантилей",
   "id": "a6deb8c681f1eb5f"
  },
  {
   "metadata": {
    "ExecuteTime": {
     "end_time": "2024-07-27T12:18:11.849137Z",
     "start_time": "2024-07-27T12:18:11.835107Z"
    }
   },
   "cell_type": "code",
   "source": [
    "std_var = sum((param_i - total_sample_param) ** 2 for param_i in mass_params) / B\n",
    "\n",
    "ci_q = [total_sample_param - norm.ppf(1 - alpha / 2) * (std_var / np.sqrt(N)),\n",
    "        total_sample_param + norm.ppf(1 - alpha / 2) * (std_var / np.sqrt(N))]\n",
    "ci_q"
   ],
   "id": "c93067a471437d52",
   "outputs": [
    {
     "data": {
      "text/plain": [
       "[-0.10645204883913655, -0.10329389842626062]"
      ]
     },
     "execution_count": 335,
     "metadata": {},
     "output_type": "execute_result"
    }
   ],
   "execution_count": 335
  },
  {
   "metadata": {},
   "cell_type": "markdown",
   "source": "# Исследование через scipy",
   "id": "59d9cdab5bd989f8"
  },
  {
   "metadata": {
    "ExecuteTime": {
     "end_time": "2024-07-27T12:18:11.880895Z",
     "start_time": "2024-07-27T12:18:11.851137Z"
    }
   },
   "cell_type": "code",
   "source": [
    "bootstr = bootstrap((norm_rvs,), np.mean, n_resamples=B, confidence_level=1 - alpha)\n",
    "ci_b = bootstr.confidence_interval\n",
    "ci_b"
   ],
   "id": "3c0b40052660c6eb",
   "outputs": [
    {
     "data": {
      "text/plain": [
       "ConfidenceInterval(low=-0.2780502767784814, high=0.07577975560021348)"
      ]
     },
     "execution_count": 336,
     "metadata": {},
     "output_type": "execute_result"
    }
   ],
   "execution_count": 336
  },
  {
   "metadata": {},
   "cell_type": "markdown",
   "source": "# Графическое отображение",
   "id": "56bf40977add00b8"
  },
  {
   "metadata": {
    "ExecuteTime": {
     "end_time": "2024-07-27T12:18:12.053880Z",
     "start_time": "2024-07-27T12:18:11.881898Z"
    }
   },
   "cell_type": "code",
   "source": [
    "x = np.linspace(norm_rv.mean() - 1 * norm_rv.std(), norm_rv.mean() + 1 * norm_rv.std(), 1000)\n",
    "\n",
    "sns.lineplot(x=x, y=norm_rv.pdf(x))\n",
    "vlines(x=norm_rv.mean(), ymin=0, ymax=norm_rv.pdf(norm_rv.mean()))\n",
    "\n",
    "vlines(x=total_sample_param, ymin=0, ymax=norm.pdf(total_sample_param), color='y', label='Expectancy Bootstrap')\n",
    "\n",
    "vlines(x=ci_p, ymin=0, ymax=norm.pdf(ci_p), color='g', linestyles=\"--\", label=\"CI percentiles\")\n",
    "vlines(x=ci_q, ymin=0, ymax=norm.pdf(ci_q), color='r', linestyles=\"--\", label=\"CI quantiles\")\n",
    "\n",
    "vlines(x=ci_b, ymin=0, ymax=norm.pdf(ci_b), color='b', label=\"Bootstrap confidence interval\")\n",
    "\n",
    "legend()\n",
    "show()"
   ],
   "id": "b5856cdcb13277e0",
   "outputs": [
    {
     "data": {
      "text/plain": [
       "<Figure size 640x480 with 1 Axes>"
      ],
      "image/png": "[encoded data removed]"
     },
     "metadata": {},
     "output_type": "display_data"
    }
   ],
   "execution_count": 337
  },
  {
   "metadata": {
    "ExecuteTime": {
     "end_time": "2024-07-27T12:18:12.069920Z",
     "start_time": "2024-07-27T12:18:12.055893Z"
    }
   },
   "cell_type": "code",
   "source": "",
   "id": "da7e2fe279ad987b",
   "outputs": [],
   "execution_count": 337
  }
 ],
 "metadata": {
  "kernelspec": {
   "display_name": "Python 3",
   "language": "python",
   "name": "python3"
  },
  "language_info": {
   "codemirror_mode": {
    "name": "ipython",
    "version": 2
   },
   "file_extension": ".py",
   "mimetype": "text/x-python",
   "name": "python",
   "nbconvert_exporter": "python",
   "pygments_lexer": "ipython2",
   "version": "2.7.6"
  }
 },
 "nbformat": 4,
 "nbformat_minor": 5
}
